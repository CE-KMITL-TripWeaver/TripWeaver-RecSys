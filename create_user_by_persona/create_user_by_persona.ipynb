{
 "cells": [
  {
   "cell_type": "code",
   "execution_count": 25,
   "metadata": {},
   "outputs": [],
   "source": [
    "import sys\n",
    "sys.path.append('..')\n",
    "\n",
    "import constants.file_handler_constants as fh\n",
    "from constants.user_constants import *\n",
    "from constants.attraction_constants import *\n",
    "from packages.user_preference_prompt_by_persona.gernerate_preference import *\n",
    "\n",
    "import os\n",
    "import glob\n",
    "import time\n",
    "import pandas as pd\n",
    "import numpy as np\n",
    "import json\n",
    "import requests\n",
    "import ast\n",
    "\n",
    "import google.generativeai as genai\n",
    "from google.generativeai.types import ContentType\n",
    "from PIL import Image\n",
    "from IPython.display import Markdown"
   ]
  },
  {
   "cell_type": "code",
   "execution_count": 26,
   "metadata": {},
   "outputs": [],
   "source": [
    "def create_payload(name: str, email: str, password: str, displayName: str, user_attraction_tag_score: dict) -> dict:\n",
    "    \n",
    "    payload = {\n",
    "        'username': name,\n",
    "        'email': email,\n",
    "        'password': password,\n",
    "        'googleId': '',\n",
    "        'displayName': displayName,\n",
    "        \"attractionTagScore\": {\n",
    "            \"attractionTagFields\": user_attraction_tag_score.copy()\n",
    "        },\n",
    "    }\n",
    "\n",
    "    return payload.copy()"
   ]
  },
  {
   "cell_type": "code",
   "execution_count": 27,
   "metadata": {},
   "outputs": [],
   "source": [
    "def getScorefromGeminiAPI(user_preference_prompt: list[dict]) -> dict:\n",
    "    \"\"\"\n",
    "    Retrieves tag scores for a user based on their responses during the sign-up process using the Gemini API.\n",
    "\n",
    "    Args:\n",
    "        user_preference_prompt : A list of the user's responses to each question\n",
    "\n",
    "    Returns:\n",
    "        Dictionary representing scores for all tags.\n",
    "    \"\"\"\n",
    "\n",
    "    # configure the Gemini API model\n",
    "    genai.configure(api_key=os.getenv(\"GOOGLE_API_KEY\"))\n",
    "    model = genai.GenerativeModel('gemini-1.5-flash-latest')\n",
    "    # model = genai.GenerativeModel('gemini-1.5-pro-latest')\n",
    "    \n",
    "    # construct the base prompt\n",
    "    text_prompt = (\n",
    "        \"Based on the user's answers, generate a JSON string containing scores (0-1) for the following attributes (nothing else, no other sentences):\"\n",
    "        \"\\nExample JSON: \"\n",
    "        '{\"Tourism\":0,\"Adventure\":0,\"Meditation\":0,\"Art\":0,\"Cultural\":0,\"Landscape\":0,\"Nature\":0,\"Historical\":0,'\n",
    "        '\"Cityscape\":0,\"Beach\":0,\"Mountain\":0,\"Architecture\":0,\"Temple\":0,\"WalkingStreet\":0,\"Market\":0,'\n",
    "        '\"Village\":0,\"NationalPark\":0,\"Diving\":0,\"Snuggle\":0,\"Waterfall\":0,\"Island\":0,\"Shopping\":0,'\n",
    "        '\"Camping\":0,\"Fog\":0,\"Cycling\":0,\"Monument\":0,\"Zoo\":0,\"Waterpark\":0,\"Hiking\":0,\"Museum\":0,'\n",
    "        '\"Riverside\":0,\"NightLife\":0,\"Family\":0,\"Kid\":0,\"Landmark\":0,\"Forest\":0}'\n",
    "    )\n",
    "\n",
    "    # Add each question and its corresponding score to the prompt\n",
    "    for item in user_preference_prompt:\n",
    "        question = item[\"question\"]\n",
    "        score = item[\"score\"]\n",
    "        text_prompt += f\"\\nQuestion: {question}\\nUser Answer: {score}/5\"\n",
    "\n",
    "    # \n",
    "    prompt = [text_prompt]\n",
    "\n",
    "    # print token count for debugging\n",
    "    print(\"total_tokens: \", model.count_tokens(prompt))\n",
    "    \n",
    "    # send the prompt to the Gemini API\n",
    "    res_score_dict = {}\n",
    "    try:\n",
    "        response = model.generate_content(prompt)\n",
    "        res_start_Idx = response.text.find('{')\n",
    "        res_end_Idx = response.text.find('}')\n",
    "        res_score_dict =  json.loads(response.text[res_start_Idx:res_end_Idx+1])\n",
    "\n",
    "    except Exception as e:\n",
    "        print(\"failed to use gemini api\")\n",
    "    \n",
    "    return res_score_dict"
   ]
  },
  {
   "cell_type": "code",
   "execution_count": 28,
   "metadata": {},
   "outputs": [],
   "source": [
    "# example result of user tagScore based on their responses on preference test\n",
    "# user_preference_prompt = create_user_persona_art()\n",
    "\n",
    "\n",
    "# user_attraction_tag_score = getScorefromGeminiAPI(user_preference_prompt=user_preference_prompt.copy())\n",
    "# user_attraction_tag_score"
   ]
  },
  {
   "cell_type": "code",
   "execution_count": null,
   "metadata": {},
   "outputs": [
    {
     "name": "stdout",
     "output_type": "stream",
     "text": [
      "total_tokens:  total_tokens: 532\n",
      "\n",
      "{\"message\":\"User and UserRating created successfully\",\"user\":{\"username\":\"love_citylife_19\",\"email\":\"love_citylife_19@gmail.com\",\"password\":\"$2a$10$JBLmbpd1zcxLLiIEZvxYnO3KEiVu4QE771hOdrCVb2Lwg/Gvyal3K\",\"displayName\":\"love_citylife_19_3141\",\"imgPath\":null,\"firstName\":null,\"lastName\":null,\"points\":0,\"role\":\"user\",\"favoritePlaces\":[],\"attractionTagScore\":{\"attractionTagFields\":{\"Tourism\":0.6,\"Adventure\":0.2,\"Meditation\":0,\"Art\":0.6,\"Cultural\":0.2,\"Landscape\":0.6,\"Nature\":0.6,\"Historical\":0.2,\"Cityscape\":1,\"Beach\":0.4,\"Mountain\":0.6,\"Architecture\":0.6,\"Temple\":0.2,\"WalkingStreet\":1,\"Market\":1,\"Village\":0,\"NationalPark\":0.6,\"Diving\":0.2,\"Snuggle\":0,\"Waterfall\":0.6,\"Island\":0.4,\"Shopping\":1,\"Camping\":0.2,\"Fog\":0,\"Cycling\":0.2,\"Monument\":0.2,\"Zoo\":0.4,\"Waterpark\":0.4,\"Hiking\":0.2,\"Museum\":0.2,\"Riverside\":0.6,\"NightLife\":1,\"Family\":0.4,\"Kid\":0.4,\"Landmark\":0.2,\"Forest\":0.6}},\"_id\":\"679929bef2119e822416ab21\",\"createdAt\":\"2025-01-28T19:02:22.425Z\",\"__v\":0},\"userRating\":{\"userId\":\"679929bef2119e822416ab21\",\"rating\":[],\"_id\":\"679929bef2119e822416ab23\",\"__v\":0}}\n"
     ]
    }
   ],
   "source": [
    "# send POST API to create users\n",
    "'''\n",
    "20 user of following persona have been created:\n",
    "- user_persona_nature --> love_art_{nth}\n",
    "- user_persona_temple_historical --> love_temple_historical_{nth}\n",
    "- user_persona_adventure --> love_adventure_{nth}\n",
    "- user_persona_art --> love_art_{nth}\n",
    "- user_persona_beach --> love_beach_{nth}\n",
    "- user_persona_family --> love_family_{nth}\n",
    "- user_persona_citylife --> love_citylife_{nth}\n",
    "\n",
    "'''\n",
    "\n",
    "for Idx in range(19, 20):\n",
    "    cur_user_preference_prompt = create_user_persona_citylife()\n",
    "    cur_user_attraction_tag_score = getScorefromGeminiAPI(user_preference_prompt=cur_user_preference_prompt.copy())\n",
    "    \n",
    "    cur_name = f\"love_citylife_{Idx}\"\n",
    "    cur_email = f\"love_citylife_{Idx}@gmail.com\"\n",
    "    cur_password = \"qwerty1234\"\n",
    "    cur_displayName = f\"love_citylife_dis_{Idx}\"\n",
    " \n",
    "    cur_payload = create_payload(\n",
    "        name = cur_name, \n",
    "        email = cur_email, \n",
    "        password = cur_password, \n",
    "        displayName = cur_displayName,\n",
    "        user_attraction_tag_score = cur_user_attraction_tag_score\n",
    "    )\n",
    "\n",
    "    try:\n",
    "        API_ENDPOINT = f\"{os.environ['TRIPWEAVER_API']}/api/user/create\"\n",
    "        headers = {\n",
    "            \"Authorization\": f\"{os.environ['AUTH_BRANCH_API_KEY']}\",\n",
    "            \"Content-Type\": \"application/json\"\n",
    "        }\n",
    "\n",
    "        post_request = requests.post(url=API_ENDPOINT, json=cur_payload, headers=headers)\n",
    "        print(post_request.text)\n",
    "\n",
    "    except Exception as e:\n",
    "        print(\"POST api failed at --> \", cur_payload['name'])\n",
    "        print(e)\n",
    "    "
   ]
  },
  {
   "cell_type": "code",
   "execution_count": 30,
   "metadata": {},
   "outputs": [
    {
     "data": {
      "text/plain": [
       "'\\ntotal_tokens:  total_tokens: 532\\n\\n{\"message\":\"User and UserRating created successfully\",\"user\":{\"username\":\"love_art_0\",\"email\":\"love_art_0@gmail.com\",\"password\":\"$2a$10$P6YaRuY/q4TDHPA1Ziv7b.jZhfXQMBmHywIyjaRaBW/XZa3J9d3Q6\",\"displayName\":\"love_art_0_3865\",\"imgPath\":null,\"firstName\":null,\"lastName\":null,\"points\":0,\"role\":\"user\",\"favoritePlaces\":[],\"attractionTagScore\":{\"attractionTagFields\":{\"Tourism\":0.4,\"Adventure\":0.2,\"Meditation\":0,\"Art\":1,\"Cultural\":0.6,\"Landscape\":0.4,\"Nature\":0.4,\"Historical\":0.6,\"Cityscape\":0,\"Beach\":0.2,\"Mountain\":0.4,\"Architecture\":1,\"Temple\":0.6,\"WalkingStreet\":0,\"Market\":0,\"Village\":0.4,\"NationalPark\":0.4,\"Diving\":0.2,\"Snuggle\":0,\"Waterfall\":0.4,\"Island\":0.2,\"Shopping\":0,\"Camping\":0.2,\"Fog\":0,\"Cycling\":0.2,\"Monument\":0.6,\"Zoo\":0.4,\"Waterpark\":0.4,\"Hiking\":0.2,\"Museum\":0.6,\"Riverside\":0.4,\"NightLife\":0,\"Family\":0.4,\"Kid\":0.4,\"Landmark\":0.6,\"Forest\":0.4}},\"_id\":\"677da874c82bd4de43ed6e96\",\"createdAt\":\"2025-01-07T22:19:32.201Z\",\"__v\":0},\"userRating\":{\"userId\":\"677da874c82bd4de43ed6e96\",\"rating\":[],\"_id\":\"677da874c82bd4de43ed6e98\",\"__v\":0}}\\ntotal_tokens:  total_tokens: 532\\n\\n{\"message\":\"User and UserRating created successfully\",\"user\":{\"username\":\"love_art_1\",\"email\":\"love_art_1@gmail.com\",\"password\":\"$2a$10$0spLd7chS8sTHXhG1vc5MO4Hz/asPOAOFysZP53x7YEVvl4W7ohu2\",\"displayName\":\"love_art_1_7209\",\"imgPath\":null,\"firstName\":null,\"lastName\":null,\"points\":0,\"role\":\"user\",\"favoritePlaces\":[],\"attractionTagScore\":{\"attractionTagFields\":{\"Tourism\":0.4,\"Adventure\":0.6,\"Meditation\":0.2,\"Art\":1,\"Cultural\":0,\"Landscape\":0.4,\"Nature\":0.2,\"Historical\":0,\"Cityscape\":0.4,\"Beach\":0.4,\"Mountain\":0.2,\"Architecture\":1,\"Temple\":0,\"WalkingStreet\":0.4,\"Market\":0.4,\"Village\":0.2,\"NationalPark\":0.2,\"Diving\":0.6,\"Snuggle\":0.2,\"Waterfall\":0.2,\"Island\":0.4,\"Shopping\":0.4,\"Camping\":0.6,\"Fog\":0.2,\"Cycling\":0.6,\"Monument\":0,\"Zoo\":0,\"Waterpark\":0,\"Hiking\":0.6,\"Museum\":0,\"Riverside\":0.2,\"NightLife\":0.4,\"Family\":0,\"Kid\":0,\"Landmark\":0,\"Forest\":0.2}},\"_id\":\"677da877c82bd4de43ed6e9b\",\"createdAt\":\"2025-01-07T22:19:35.823Z\",\"__v\":0},\"userRating\":{\"userId\":\"677da877c82bd4de43ed6e9b\",\"rating\":[],\"_id\":\"677da877c82bd4de43ed6e9d\",\"__v\":0}}\\ntotal_tokens:  total_tokens: 532\\n\\n{\"message\":\"User and UserRating created successfully\",\"user\":{\"username\":\"love_art_2\",\"email\":\"love_art_2@gmail.com\",\"password\":\"$2a$10$2248/3wZqIilfrahaYKc9O6cbuo6Am1WqdJIdu1L7imaZxl.B.E4C\",\"displayName\":\"love_art_2_1316\",\"imgPath\":null,\"firstName\":null,\"lastName\":null,\"points\":0,\"role\":\"user\",\"favoritePlaces\":[],\"attractionTagScore\":{\"attractionTagFields\":{\"Tourism\":0.2,\"Adventure\":0,\"Meditation\":0.6,\"Art\":1,\"Cultural\":0,\"Landscape\":0.2,\"Nature\":0.2,\"Historical\":0,\"Cityscape\":0.2,\"Beach\":0,\"Mountain\":0.2,\"Architecture\":1,\"Temple\":0,\"WalkingStreet\":0.2,\"Market\":0.2,\"Village\":0,\"NationalPark\":0.2,\"Diving\":0,\"Snuggle\":0.6,\"Waterfall\":0.2,\"Island\":0,\"Shopping\":0.2,\"Camping\":0,\"Fog\":0.6,\"Cycling\":0,\"Monument\":0,\"Zoo\":0,\"Waterpark\":0,\"Hiking\":0,\"Museum\":0,\"Riverside\":0.2,\"NightLife\":0.2,\"Family\":0,\"Kid\":0,\"Landmark\":0,\"Forest\":0.2}},\"_id\":\"677da87ac82bd4de43ed6ea0\",\"createdAt\":\"2025-01-07T22:19:38.691Z\",\"__v\":0},\"userRating\":{\"userId\":\"677da87ac82bd4de43ed6ea0\",\"rating\":[],\"_id\":\"677da87ac82bd4de43ed6ea2\",\"__v\":0}}\\ntotal_tokens:  total_tokens: 532\\n\\n{\"message\":\"User and UserRating created successfully\",\"user\":{\"username\":\"love_art_3\",\"email\":\"love_art_3@gmail.com\",\"password\":\"$2a$10$1.mzAsnKZpSuaN945RVgDeSPP2d5Ov9lUaB/3QrFZALZKh9VUzwAK\",\"displayName\":\"love_art_3_4564\",\"imgPath\":null,\"firstName\":null,\"lastName\":null,\"points\":0,\"role\":\"user\",\"favoritePlaces\":[],\"attractionTagScore\":{\"attractionTagFields\":{\"Tourism\":0.6,\"Adventure\":0,\"Meditation\":0,\"Art\":1,\"Cultural\":0.4,\"Landscape\":0.6,\"Nature\":0.6,\"Historical\":0.4,\"Cityscape\":0.6,\"Beach\":0,\"Mountain\":0.6,\"Architecture\":1,\"Temple\":0.4,\"WalkingStreet\":0.6,\"Market\":0.6,\"Village\":0.6,\"NationalPark\":0.6,\"Diving\":0,\"Snuggle\":0,\"Waterfall\":0.6,\"Island\":0,\"Shopping\":0.6,\"Camping\":0,\"Fog\":0,\"Cycling\":0,\"Monument\":0.4,\"Zoo\":0.2,\"Waterpark\":0.2,\"Hiking\":0,\"Museum\":0.4,\"Riverside\":0.6,\"NightLife\":0.6,\"Family\":0.2,\"Kid\":0.2,\"Landmark\":0.4,\"Forest\":0.6}},\"_id\":\"677da87dc82bd4de43ed6ea5\",\"createdAt\":\"2025-01-07T22:19:41.753Z\",\"__v\":0},\"userRating\":{\"userId\":\"677da87dc82bd4de43ed6ea5\",\"rating\":[],\"_id\":\"677da87dc82bd4de43ed6ea7\",\"__v\":0}}\\ntotal_tokens:  total_tokens: 532\\n\\n{\"message\":\"User and UserRating created successfully\",\"user\":{\"username\":\"love_art_4\",\"email\":\"love_art_4@gmail.com\",\"password\":\"$2a$10$qnrXM8xZ78E78mLF06z/YOJd06lbmAJILpFOzODsl0Shni83uEtuy\",\"displayName\":\"love_art_4_7421\",\"imgPath\":null,\"firstName\":null,\"lastName\":null,\"points\":0,\"role\":\"user\",\"favoritePlaces\":[],\"attractionTagScore\":{\"attractionTagFields\":{\"Tourism\":0.6,\"Adventure\":0.4,\"Meditation\":0,\"Art\":0.8,\"Cultural\":0.6,\"Landscape\":0.6,\"Nature\":0.6,\"Historical\":0.6,\"Cityscape\":0.6,\"Beach\":0.2,\"Mountain\":0.6,\"Architecture\":0.8,\"Temple\":0.6,\"WalkingStreet\":0.6,\"Market\":0.6,\"Village\":0.6,\"NationalPark\":0.6,\"Diving\":0.4,\"Snuggle\":0,\"Waterfall\":0.6,\"Island\":0.2,\"Shopping\":0.6,\"Camping\":0.4,\"Fog\":0,\"Cycling\":0.4,\"Monument\":0.6,\"Zoo\":0.6,\"Waterpark\":0.6,\"Hiking\":0.4,\"Museum\":0.6,\"Riverside\":0.6,\"NightLife\":0.6,\"Family\":0.6,\"Kid\":0.6,\"Landmark\":0.6,\"Forest\":0.6}},\"_id\":\"677da880c82bd4de43ed6eaa\",\"createdAt\":\"2025-01-07T22:19:44.827Z\",\"__v\":0},\"userRating\":{\"userId\":\"677da880c82bd4de43ed6eaa\",\"rating\":[],\"_id\":\"677da880c82bd4de43ed6eac\",\"__v\":0}}\\n'"
      ]
     },
     "execution_count": 30,
     "metadata": {},
     "output_type": "execute_result"
    }
   ],
   "source": [
    "'''\n",
    "total_tokens:  total_tokens: 532\n",
    "\n",
    "{\"message\":\"User and UserRating created successfully\",\"user\":{\"username\":\"love_art_0\",\"email\":\"love_art_0@gmail.com\",\"password\":\"$2a$10$P6YaRuY/q4TDHPA1Ziv7b.jZhfXQMBmHywIyjaRaBW/XZa3J9d3Q6\",\"displayName\":\"love_art_0_3865\",\"imgPath\":null,\"firstName\":null,\"lastName\":null,\"points\":0,\"role\":\"user\",\"favoritePlaces\":[],\"attractionTagScore\":{\"attractionTagFields\":{\"Tourism\":0.4,\"Adventure\":0.2,\"Meditation\":0,\"Art\":1,\"Cultural\":0.6,\"Landscape\":0.4,\"Nature\":0.4,\"Historical\":0.6,\"Cityscape\":0,\"Beach\":0.2,\"Mountain\":0.4,\"Architecture\":1,\"Temple\":0.6,\"WalkingStreet\":0,\"Market\":0,\"Village\":0.4,\"NationalPark\":0.4,\"Diving\":0.2,\"Snuggle\":0,\"Waterfall\":0.4,\"Island\":0.2,\"Shopping\":0,\"Camping\":0.2,\"Fog\":0,\"Cycling\":0.2,\"Monument\":0.6,\"Zoo\":0.4,\"Waterpark\":0.4,\"Hiking\":0.2,\"Museum\":0.6,\"Riverside\":0.4,\"NightLife\":0,\"Family\":0.4,\"Kid\":0.4,\"Landmark\":0.6,\"Forest\":0.4}},\"_id\":\"677da874c82bd4de43ed6e96\",\"createdAt\":\"2025-01-07T22:19:32.201Z\",\"__v\":0},\"userRating\":{\"userId\":\"677da874c82bd4de43ed6e96\",\"rating\":[],\"_id\":\"677da874c82bd4de43ed6e98\",\"__v\":0}}\n",
    "total_tokens:  total_tokens: 532\n",
    "\n",
    "{\"message\":\"User and UserRating created successfully\",\"user\":{\"username\":\"love_art_1\",\"email\":\"love_art_1@gmail.com\",\"password\":\"$2a$10$0spLd7chS8sTHXhG1vc5MO4Hz/asPOAOFysZP53x7YEVvl4W7ohu2\",\"displayName\":\"love_art_1_7209\",\"imgPath\":null,\"firstName\":null,\"lastName\":null,\"points\":0,\"role\":\"user\",\"favoritePlaces\":[],\"attractionTagScore\":{\"attractionTagFields\":{\"Tourism\":0.4,\"Adventure\":0.6,\"Meditation\":0.2,\"Art\":1,\"Cultural\":0,\"Landscape\":0.4,\"Nature\":0.2,\"Historical\":0,\"Cityscape\":0.4,\"Beach\":0.4,\"Mountain\":0.2,\"Architecture\":1,\"Temple\":0,\"WalkingStreet\":0.4,\"Market\":0.4,\"Village\":0.2,\"NationalPark\":0.2,\"Diving\":0.6,\"Snuggle\":0.2,\"Waterfall\":0.2,\"Island\":0.4,\"Shopping\":0.4,\"Camping\":0.6,\"Fog\":0.2,\"Cycling\":0.6,\"Monument\":0,\"Zoo\":0,\"Waterpark\":0,\"Hiking\":0.6,\"Museum\":0,\"Riverside\":0.2,\"NightLife\":0.4,\"Family\":0,\"Kid\":0,\"Landmark\":0,\"Forest\":0.2}},\"_id\":\"677da877c82bd4de43ed6e9b\",\"createdAt\":\"2025-01-07T22:19:35.823Z\",\"__v\":0},\"userRating\":{\"userId\":\"677da877c82bd4de43ed6e9b\",\"rating\":[],\"_id\":\"677da877c82bd4de43ed6e9d\",\"__v\":0}}\n",
    "total_tokens:  total_tokens: 532\n",
    "\n",
    "{\"message\":\"User and UserRating created successfully\",\"user\":{\"username\":\"love_art_2\",\"email\":\"love_art_2@gmail.com\",\"password\":\"$2a$10$2248/3wZqIilfrahaYKc9O6cbuo6Am1WqdJIdu1L7imaZxl.B.E4C\",\"displayName\":\"love_art_2_1316\",\"imgPath\":null,\"firstName\":null,\"lastName\":null,\"points\":0,\"role\":\"user\",\"favoritePlaces\":[],\"attractionTagScore\":{\"attractionTagFields\":{\"Tourism\":0.2,\"Adventure\":0,\"Meditation\":0.6,\"Art\":1,\"Cultural\":0,\"Landscape\":0.2,\"Nature\":0.2,\"Historical\":0,\"Cityscape\":0.2,\"Beach\":0,\"Mountain\":0.2,\"Architecture\":1,\"Temple\":0,\"WalkingStreet\":0.2,\"Market\":0.2,\"Village\":0,\"NationalPark\":0.2,\"Diving\":0,\"Snuggle\":0.6,\"Waterfall\":0.2,\"Island\":0,\"Shopping\":0.2,\"Camping\":0,\"Fog\":0.6,\"Cycling\":0,\"Monument\":0,\"Zoo\":0,\"Waterpark\":0,\"Hiking\":0,\"Museum\":0,\"Riverside\":0.2,\"NightLife\":0.2,\"Family\":0,\"Kid\":0,\"Landmark\":0,\"Forest\":0.2}},\"_id\":\"677da87ac82bd4de43ed6ea0\",\"createdAt\":\"2025-01-07T22:19:38.691Z\",\"__v\":0},\"userRating\":{\"userId\":\"677da87ac82bd4de43ed6ea0\",\"rating\":[],\"_id\":\"677da87ac82bd4de43ed6ea2\",\"__v\":0}}\n",
    "total_tokens:  total_tokens: 532\n",
    "\n",
    "{\"message\":\"User and UserRating created successfully\",\"user\":{\"username\":\"love_art_3\",\"email\":\"love_art_3@gmail.com\",\"password\":\"$2a$10$1.mzAsnKZpSuaN945RVgDeSPP2d5Ov9lUaB/3QrFZALZKh9VUzwAK\",\"displayName\":\"love_art_3_4564\",\"imgPath\":null,\"firstName\":null,\"lastName\":null,\"points\":0,\"role\":\"user\",\"favoritePlaces\":[],\"attractionTagScore\":{\"attractionTagFields\":{\"Tourism\":0.6,\"Adventure\":0,\"Meditation\":0,\"Art\":1,\"Cultural\":0.4,\"Landscape\":0.6,\"Nature\":0.6,\"Historical\":0.4,\"Cityscape\":0.6,\"Beach\":0,\"Mountain\":0.6,\"Architecture\":1,\"Temple\":0.4,\"WalkingStreet\":0.6,\"Market\":0.6,\"Village\":0.6,\"NationalPark\":0.6,\"Diving\":0,\"Snuggle\":0,\"Waterfall\":0.6,\"Island\":0,\"Shopping\":0.6,\"Camping\":0,\"Fog\":0,\"Cycling\":0,\"Monument\":0.4,\"Zoo\":0.2,\"Waterpark\":0.2,\"Hiking\":0,\"Museum\":0.4,\"Riverside\":0.6,\"NightLife\":0.6,\"Family\":0.2,\"Kid\":0.2,\"Landmark\":0.4,\"Forest\":0.6}},\"_id\":\"677da87dc82bd4de43ed6ea5\",\"createdAt\":\"2025-01-07T22:19:41.753Z\",\"__v\":0},\"userRating\":{\"userId\":\"677da87dc82bd4de43ed6ea5\",\"rating\":[],\"_id\":\"677da87dc82bd4de43ed6ea7\",\"__v\":0}}\n",
    "total_tokens:  total_tokens: 532\n",
    "\n",
    "{\"message\":\"User and UserRating created successfully\",\"user\":{\"username\":\"love_art_4\",\"email\":\"love_art_4@gmail.com\",\"password\":\"$2a$10$qnrXM8xZ78E78mLF06z/YOJd06lbmAJILpFOzODsl0Shni83uEtuy\",\"displayName\":\"love_art_4_7421\",\"imgPath\":null,\"firstName\":null,\"lastName\":null,\"points\":0,\"role\":\"user\",\"favoritePlaces\":[],\"attractionTagScore\":{\"attractionTagFields\":{\"Tourism\":0.6,\"Adventure\":0.4,\"Meditation\":0,\"Art\":0.8,\"Cultural\":0.6,\"Landscape\":0.6,\"Nature\":0.6,\"Historical\":0.6,\"Cityscape\":0.6,\"Beach\":0.2,\"Mountain\":0.6,\"Architecture\":0.8,\"Temple\":0.6,\"WalkingStreet\":0.6,\"Market\":0.6,\"Village\":0.6,\"NationalPark\":0.6,\"Diving\":0.4,\"Snuggle\":0,\"Waterfall\":0.6,\"Island\":0.2,\"Shopping\":0.6,\"Camping\":0.4,\"Fog\":0,\"Cycling\":0.4,\"Monument\":0.6,\"Zoo\":0.6,\"Waterpark\":0.6,\"Hiking\":0.4,\"Museum\":0.6,\"Riverside\":0.6,\"NightLife\":0.6,\"Family\":0.6,\"Kid\":0.6,\"Landmark\":0.6,\"Forest\":0.6}},\"_id\":\"677da880c82bd4de43ed6eaa\",\"createdAt\":\"2025-01-07T22:19:44.827Z\",\"__v\":0},\"userRating\":{\"userId\":\"677da880c82bd4de43ed6eaa\",\"rating\":[],\"_id\":\"677da880c82bd4de43ed6eac\",\"__v\":0}}\n",
    "'''"
   ]
  }
 ],
 "metadata": {
  "kernelspec": {
   "display_name": "Python 3",
   "language": "python",
   "name": "python3"
  },
  "language_info": {
   "codemirror_mode": {
    "name": "ipython",
    "version": 3
   },
   "file_extension": ".py",
   "mimetype": "text/x-python",
   "name": "python",
   "nbconvert_exporter": "python",
   "pygments_lexer": "ipython3",
   "version": "3.13.0"
  }
 },
 "nbformat": 4,
 "nbformat_minor": 2
}
