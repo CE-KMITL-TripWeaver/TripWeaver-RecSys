{
 "cells": [
  {
   "cell_type": "code",
   "execution_count": 1,
   "metadata": {},
   "outputs": [],
   "source": [
    "import sys\n",
    "sys.path.append('..')\n",
    "\n",
    "import constants.file_handler_constants as fh\n",
    "from constants.user_constants import *\n",
    "from constants.attraction_constants import *\n",
    "from packages.user_preference_prompt_by_persona.gernerate_preference import *\n",
    "\n",
    "import os\n",
    "import glob\n",
    "import time\n",
    "import pandas as pd\n",
    "import numpy as np\n",
    "import json\n",
    "import requests\n",
    "import ast\n",
    "import random as rd\n"
   ]
  },
  {
   "cell_type": "code",
   "execution_count": 2,
   "metadata": {},
   "outputs": [
    {
     "name": "stdout",
     "output_type": "stream",
     "text": [
      "user_id_love_nature :\n",
      " ['677e41b2519209b0aaff4d76', '677e41b6519209b0aaff4d7b', '677e41b9519209b0aaff4d80', '677e41bc519209b0aaff4d85', '677e41bf519209b0aaff4d8a', '677e41c2519209b0aaff4d8f', '677e41c5519209b0aaff4d94', '677e41c8519209b0aaff4d99', '677e41cb519209b0aaff4d9e', '677e41ce519209b0aaff4da3', '677e41d1519209b0aaff4da8', '677e41d4519209b0aaff4dad', '677e41d7519209b0aaff4db2', '677e41da519209b0aaff4db7', '677e41de519209b0aaff4dbc', '677e41df519209b0aaff4dc1', '677e41e1519209b0aaff4dc6', '677e41e2519209b0aaff4dcb', '677e41e3519209b0aaff4dd0', '677e41e5519209b0aaff4dd5']\n",
      "user_id_art_nature :\n",
      " ['677e4cd4519209b0aaff4f8c', '677e544b519209b0aaff4fd6', '677e544e519209b0aaff4fdb', '677e5451519209b0aaff4fe0', '677e5454519209b0aaff4fe5', '677e5457519209b0aaff4fea', '677e545a519209b0aaff4fef', '677e545d519209b0aaff4ff4', '677e5460519209b0aaff4ff9', '677e5464519209b0aaff4ffe', '677e5467519209b0aaff5003', '677e5469519209b0aaff5008', '677e546d519209b0aaff500d', '677e5470519209b0aaff5012', '677e5473519209b0aaff5017', '677e5476519209b0aaff501c', '677e547e519209b0aaff5027', '677e5484519209b0aaff5031']\n"
     ]
    }
   ],
   "source": [
    "# keep save id by following result to constant (manually)\n",
    "\n",
    "user_id_love_nature = []\n",
    "user_id_love_art = []\n",
    "\n",
    "try:\n",
    "    API_ENDPOINT = f\"{os.environ['TRIPWEAVER_API']}/api/user/getAllUser\"\n",
    "    headers = {\n",
    "        \"Authorization\": f\"{os.environ['AUTH_BRANCH_API_KEY']}\",\n",
    "        \"Content-Type\": \"application/json\"\n",
    "    }\n",
    "    res_all_user = requests.get(url=API_ENDPOINT, headers=headers).json()\n",
    "    user_id_love_nature = [cur_user['_id'] for cur_user in res_all_user if (\"love_nature_\" in cur_user['username'])] \n",
    "    user_id_love_art = [cur_user['_id'] for cur_user in res_all_user if (\"love_art_\" in cur_user['username'])] \n",
    "   \n",
    "except Exception as e:\n",
    "    print(\"get user failed !\")\n",
    "    print(e)\n",
    "\n",
    "print(\"user_id_love_nature :\\n\", user_id_love_nature)\n",
    "print(\"user_id_art_nature :\\n\", user_id_love_art)\n"
   ]
  },
  {
   "cell_type": "code",
   "execution_count": 4,
   "metadata": {},
   "outputs": [],
   "source": [
    "''' \n",
    "20 rating of each user in  following persona have been created:\n",
    "- user_persona_nature --> love_art_{nth} -------> not yet\n",
    "- user_persona_temple_historical --> love_temple_historical_{nth} -------> not yet\n",
    "'''\n",
    "\n",
    "# select both the corresponding group of user_id and attraction_id in 'user_constants'\n",
    "selected_persona_users_id = USER_ID_LOVE_ART\n",
    "selected_persona_attractions_id = ATTRACTION_ID_LOVE_ART\n",
    "\n",
    "for cur_user_id in selected_persona_users_id:\n",
    "    for cur_attraction_id in selected_persona_attractions_id:\n",
    "        try:\n",
    "            API_ENDPOINT = f\"{os.environ['TRIPWEAVER_API']}/api/userrating/patch/{cur_user_id}\"\n",
    "            cur_payload = {\n",
    "                \"attractionId\": cur_attraction_id, \n",
    "                \"rating_score\": rd.randint(4, 5)\n",
    "            }\n",
    "            res_user_rating = requests.patch(url=API_ENDPOINT, json=cur_payload).json()\n",
    "            \n",
    "        except Exception as e:\n",
    "            print(\"get user_rating failed !\")\n",
    "            print(e)\n"
   ]
  },
  {
   "cell_type": "code",
   "execution_count": null,
   "metadata": {},
   "outputs": [],
   "source": []
  }
 ],
 "metadata": {
  "kernelspec": {
   "display_name": "Python 3",
   "language": "python",
   "name": "python3"
  },
  "language_info": {
   "codemirror_mode": {
    "name": "ipython",
    "version": 3
   },
   "file_extension": ".py",
   "mimetype": "text/x-python",
   "name": "python",
   "nbconvert_exporter": "python",
   "pygments_lexer": "ipython3",
   "version": "3.13.0"
  }
 },
 "nbformat": 4,
 "nbformat_minor": 2
}
