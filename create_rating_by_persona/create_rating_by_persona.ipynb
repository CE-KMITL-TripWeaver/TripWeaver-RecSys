{
 "cells": [
  {
   "cell_type": "code",
   "execution_count": 2,
   "metadata": {},
   "outputs": [],
   "source": [
    "import sys\n",
    "sys.path.append('..')\n",
    "\n",
    "import constants.file_handler_constants as fh\n",
    "from constants.user_constants import *\n",
    "from constants.attraction_constants import *\n",
    "from packages.user_preference_prompt_by_persona.gernerate_preference import *\n",
    "\n",
    "import os\n",
    "import glob\n",
    "import time\n",
    "import pandas as pd\n",
    "import numpy as np\n",
    "import json\n",
    "import requests\n",
    "import ast\n",
    "import random as rd\n"
   ]
  },
  {
   "cell_type": "code",
   "execution_count": 4,
   "metadata": {},
   "outputs": [
    {
     "name": "stdout",
     "output_type": "stream",
     "text": [
      "user_id_love_nature :\n",
      " ['677e41b2519209b0aaff4d76', '677e41b6519209b0aaff4d7b', '677e41b9519209b0aaff4d80', '677e41bc519209b0aaff4d85', '677e41bf519209b0aaff4d8a', '677e41c2519209b0aaff4d8f', '677e41c5519209b0aaff4d94', '677e41c8519209b0aaff4d99', '677e41cb519209b0aaff4d9e', '677e41ce519209b0aaff4da3', '677e41d1519209b0aaff4da8', '677e41d4519209b0aaff4dad', '677e41d7519209b0aaff4db2', '677e41da519209b0aaff4db7', '677e41de519209b0aaff4dbc', '677e41df519209b0aaff4dc1', '677e41e1519209b0aaff4dc6', '677e41e2519209b0aaff4dcb', '677e41e3519209b0aaff4dd0', '677e41e5519209b0aaff4dd5']\n",
      "user_id_love_art :\n",
      " ['677e4cd4519209b0aaff4f8c', '677e544b519209b0aaff4fd6', '677e544e519209b0aaff4fdb', '677e5451519209b0aaff4fe0', '677e5454519209b0aaff4fe5', '677e5457519209b0aaff4fea', '677e545a519209b0aaff4fef', '677e545d519209b0aaff4ff4', '677e5460519209b0aaff4ff9', '677e5464519209b0aaff4ffe', '677e5467519209b0aaff5003', '677e5469519209b0aaff5008', '677e546d519209b0aaff500d', '677e5470519209b0aaff5012', '677e5473519209b0aaff5017', '677e5476519209b0aaff501c', '677e547e519209b0aaff5027', '677e5484519209b0aaff5031']\n",
      "user_id_love_temple_historical :\n",
      " ['677e425a519209b0aaff4dda', '677e425d519209b0aaff4ddf', '677e4260519209b0aaff4de4', '677e4263519209b0aaff4de9', '677e4266519209b0aaff4dee', '677e4269519209b0aaff4df3', '677e426c519209b0aaff4df8', '677e426f519209b0aaff4dfd', '677e4272519209b0aaff4e02', '677e4275519209b0aaff4e07', '677e4278519209b0aaff4e0c', '677e427b519209b0aaff4e11', '677e427e519209b0aaff4e16', '677e4281519209b0aaff4e1b', '677e4284519209b0aaff4e20', '677e4287519209b0aaff4e25', '677e428a519209b0aaff4e2a', '677e428d519209b0aaff4e2f', '677e4290519209b0aaff4e34', '677e4293519209b0aaff4e39']\n",
      "user_id_love_adventure :\n",
      " ['677e4327519209b0aaff4e3e', '677e432a519209b0aaff4e43', '677e432d519209b0aaff4e48', '677e4330519209b0aaff4e4d', '677e4333519209b0aaff4e52', '677e4336519209b0aaff4e57', '677e433a519209b0aaff4e5c', '677e433c519209b0aaff4e61', '677e433f519209b0aaff4e66', '677e4342519209b0aaff4e6b', '677e4345519209b0aaff4e70', '677e4349519209b0aaff4e75', '677e434c519209b0aaff4e7a', '677e434f519209b0aaff4e7f', '677e4352519209b0aaff4e84', '677e4355519209b0aaff4e89', '677e4358519209b0aaff4e8e', '677e435b519209b0aaff4e93', '677e435e519209b0aaff4e98', '677e4362519209b0aaff4e9d']\n",
      "user_id_love_beach  :\n",
      " ['679926f5f2119e822416a9de', '679926f8f2119e822416a9e3', '679926fbf2119e822416a9e8', '679926fff2119e822416a9ed', '67992702f2119e822416a9f2', '67992706f2119e822416a9f7', '67992708f2119e822416a9fc', '6799270cf2119e822416aa01', '6799270ff2119e822416aa06', '67992712f2119e822416aa0b', '67992715f2119e822416aa10', '67992719f2119e822416aa15', '6799271cf2119e822416aa1a', '67992720f2119e822416aa1f', '67992723f2119e822416aa24', '67992726f2119e822416aa29', '67992729f2119e822416aa2e', '679927cdf2119e822416aa46', '679927d1f2119e822416aa4b', '679927d4f2119e822416aa50']\n",
      "user_id_love_family :\n",
      " ['6799286bf2119e822416aa56', '6799286ef2119e822416aa5b', '67992871f2119e822416aa60', '67992875f2119e822416aa65', '67992878f2119e822416aa6a', '6799287bf2119e822416aa6f', '6799287ff2119e822416aa74', '67992882f2119e822416aa79', '67992885f2119e822416aa7e', '67992889f2119e822416aa83', '6799288cf2119e822416aa88', '6799288ff2119e822416aa8d', '67992892f2119e822416aa92', '67992895f2119e822416aa97', '67992899f2119e822416aa9c', '6799289cf2119e822416aaa1', '6799289ff2119e822416aaa6', '679928a3f2119e822416aaab', '679928a6f2119e822416aab0', '679928a9f2119e822416aab5']\n",
      "user_id_love_citylife :\n",
      " ['67992946f2119e822416aabb', '67992949f2119e822416aac0', '6799294cf2119e822416aac5', '6799294ff2119e822416aaca', '67992953f2119e822416aacf', '67992956f2119e822416aad4', '67992959f2119e822416aad9', '6799295cf2119e822416aade', '67992960f2119e822416aae3', '67992963f2119e822416aae8', '67992966f2119e822416aaed', '67992969f2119e822416aaf2', '6799296df2119e822416aaf7', '67992970f2119e822416aafc', '67992974f2119e822416ab01', '67992977f2119e822416ab06', '6799297af2119e822416ab0b', '6799297ef2119e822416ab10', '67992980f2119e822416ab15', '679929bef2119e822416ab21']\n"
     ]
    }
   ],
   "source": [
    "# keep save id by following result to constant (manually)\n",
    "\n",
    "user_id_love_nature = []\n",
    "user_id_love_art = []\n",
    "user_id_love_temple_historical = []\n",
    "user_id_love_adventure = []\n",
    "user_id_love_beach = []\n",
    "user_id_love_family = []\n",
    "user_id_love_citylife = []\n",
    "\n",
    "try:\n",
    "    API_ENDPOINT = f\"{os.environ['TRIPWEAVER_API']}/api/user/getAllUser\"\n",
    "    headers = {\n",
    "        \"Authorization\": f\"{os.environ['AUTH_BRANCH_API_KEY']}\",\n",
    "        \"Content-Type\": \"application/json\"\n",
    "    }\n",
    "    res_all_user = requests.get(url=API_ENDPOINT, headers=headers).json()\n",
    "    user_id_love_nature = [cur_user['_id'] for cur_user in res_all_user if (\"love_nature_\" in cur_user['username'])] \n",
    "    user_id_love_art = [cur_user['_id'] for cur_user in res_all_user if (\"love_art_\" in cur_user['username'])] \n",
    "    user_id_love_temple_historical = [cur_user['_id'] for cur_user in res_all_user if (\"love_temple_historical_\" in cur_user['username'])]\n",
    "    user_id_love_adventure = [cur_user['_id'] for cur_user in res_all_user if (\"love_adventure_\" in cur_user['username'])]\n",
    "    user_id_love_beach = [cur_user['_id'] for cur_user in res_all_user if (\"love_beach_\" in cur_user['username'])]\n",
    "    user_id_love_family = [cur_user['_id'] for cur_user in res_all_user if (\"love_family_\" in cur_user['username'])]\n",
    "    user_id_love_citylife = [cur_user['_id'] for cur_user in res_all_user if (\"love_citylife_\" in cur_user['username'])]\n",
    "\n",
    "\n",
    "except Exception as e:\n",
    "    print(\"get user failed !\")\n",
    "    print(e)\n",
    "\n",
    "print(\"user_id_love_nature :\\n\", user_id_love_nature)\n",
    "print(\"user_id_love_art :\\n\", user_id_love_art)\n",
    "print(\"user_id_love_temple_historical :\\n\", user_id_love_temple_historical)\n",
    "print(\"user_id_love_adventure :\\n\", user_id_love_adventure)\n",
    "print(\"user_id_love_beach  :\\n\", user_id_love_beach)\n",
    "print(\"user_id_love_family :\\n\", user_id_love_family)\n",
    "print(\"user_id_love_citylife :\\n\", user_id_love_citylife)"
   ]
  },
  {
   "cell_type": "code",
   "execution_count": 4,
   "metadata": {},
   "outputs": [],
   "source": [
    "''' \n",
    "20 rating of each user in following persona have been created to same type attractions:\n",
    "- user_persona_nature --> love_nature_{nth} \n",
    "- user_persona_artl --> love_art_{nth}\n",
    "'''\n",
    "\n",
    "# select both the corresponding group of user_id and attraction_id in 'user_constants'\n",
    "selected_persona_users_id = USER_ID_LOVE_ART\n",
    "selected_persona_attractions_id = ATTRACTION_ID_LOVE_ART\n",
    "\n",
    "for cur_user_id in selected_persona_users_id:\n",
    "    for cur_attraction_id in selected_persona_attractions_id:\n",
    "        try:\n",
    "            API_ENDPOINT = f\"{os.environ['TRIPWEAVER_API']}/api/userrating/patch/{cur_user_id}\"\n",
    "            cur_payload = {\n",
    "                \"attractionId\": cur_attraction_id, \n",
    "                \"rating_score\": rd.randint(4, 5)\n",
    "            }\n",
    "            res_user_rating = requests.patch(url=API_ENDPOINT, json=cur_payload).json()\n",
    "            \n",
    "        except Exception as e:\n",
    "            print(\"get user_rating failed !\")\n",
    "            print(e)\n"
   ]
  },
  {
   "cell_type": "code",
   "execution_count": 7,
   "metadata": {},
   "outputs": [],
   "source": [
    "# mix persona rating with others types of attrations\n",
    "# to make collaborative data more realistic.\n",
    "mix_persona_users_id = USER_ID_LOVE_NATURE[3:16]\n",
    "mix_persona_attractions_id = ATTRACTION_ID_LOVE_ART[0:10]\n",
    "\n",
    "for cur_user_id in mix_persona_users_id:\n",
    "    for cur_attraction_id in mix_persona_attractions_id:\n",
    "        try:\n",
    "            API_ENDPOINT = f\"{os.environ['TRIPWEAVER_API']}/api/userrating/patch/{cur_user_id}\"\n",
    "            cur_payload = {\n",
    "                \"attractionId\": cur_attraction_id, \n",
    "                \"rating_score\": rd.randint(3, 4)\n",
    "            }\n",
    "            res_user_rating = requests.patch(url=API_ENDPOINT, json=cur_payload).json()\n",
    "            \n",
    "        except Exception as e:\n",
    "            print(\"get user_rating failed !\")\n",
    "            print(e)"
   ]
  },
  {
   "cell_type": "code",
   "execution_count": null,
   "metadata": {},
   "outputs": [],
   "source": []
  }
 ],
 "metadata": {
  "kernelspec": {
   "display_name": "Python 3",
   "language": "python",
   "name": "python3"
  },
  "language_info": {
   "codemirror_mode": {
    "name": "ipython",
    "version": 3
   },
   "file_extension": ".py",
   "mimetype": "text/x-python",
   "name": "python",
   "nbconvert_exporter": "python",
   "pygments_lexer": "ipython3",
   "version": "3.13.0"
  }
 },
 "nbformat": 4,
 "nbformat_minor": 2
}
