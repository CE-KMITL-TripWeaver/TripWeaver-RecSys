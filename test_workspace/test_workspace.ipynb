{
 "cells": [
  {
   "cell_type": "code",
   "execution_count": 1,
   "metadata": {},
   "outputs": [],
   "source": [
    "import sys\n",
    "sys.path.append('..')\n",
    "\n",
    "import constants.file_handler_constants as fh\n",
    "from constants.user_constants import *\n",
    "from constants.attraction_constants import *\n",
    "from packages.user_preference_prompt_by_persona.gernerate_preference import *\n",
    "\n",
    "import pandas as pd\n",
    "import numpy as np\n",
    "import random as rd\n",
    "import os\n",
    "import requests\n",
    "import datetime\n"
   ]
  },
  {
   "cell_type": "code",
   "execution_count": 2,
   "metadata": {},
   "outputs": [
    {
     "name": "stdout",
     "output_type": "stream",
     "text": [
      "Random number between 5 and 15 is 9\n"
     ]
    }
   ],
   "source": [
    "r1 = rd.randint(5, 15)\n",
    "print(\"Random number between 5 and 15 is % s\" % (r1))"
   ]
  },
  {
   "cell_type": "code",
   "execution_count": 4,
   "metadata": {},
   "outputs": [
    {
     "data": {
      "text/plain": [
       "[0.0, 0.5, 1.0, 1.5, 2.0, 2.5, 3.0, 3.5, 4.0, 4.5, 5.0]"
      ]
     },
     "execution_count": 4,
     "metadata": {},
     "output_type": "execute_result"
    }
   ],
   "source": [
    "rd_val = [x * 0.5 for x in range(0, 11)]  # [0, 0.5, 1, ..., 4.5, 5]\n",
    "rd_val"
   ]
  },
  {
   "cell_type": "code",
   "execution_count": 6,
   "metadata": {},
   "outputs": [],
   "source": [
    "\n",
    "# for cur_user_id in USER_ID_LOVE_TEMPLE_HISTORICAL:\n",
    "#     try:\n",
    "#         API_ENDPOINT = f\"{os.environ['TRIPWEAVER_API']}/api/userrating/delete/{cur_user_id}\"\n",
    "#         res_user_rating = requests.delete(url=API_ENDPOINT).json()\n",
    "        \n",
    "#     except Exception as e:\n",
    "#         print(\"get user_rating failed !\")\n",
    "#         print(e)"
   ]
  },
  {
   "cell_type": "code",
   "execution_count": 4,
   "metadata": {},
   "outputs": [
    {
     "name": "stdout",
     "output_type": "stream",
     "text": [
      "<class 'datetime.datetime'>\n",
      "2025-02-03 22:16:44.709951\n"
     ]
    }
   ],
   "source": [
    "print(type(datetime.datetime.now()))\n",
    "print(datetime.datetime.now())"
   ]
  },
  {
   "cell_type": "code",
   "execution_count": 9,
   "metadata": {},
   "outputs": [
    {
     "name": "stdout",
     "output_type": "stream",
     "text": [
      "Reccomend by collaborative --> 2025-02-03 22:18:02.283095\n"
     ]
    }
   ],
   "source": [
    "print(f\"Reccomend by collaborative --> {datetime.datetime.now()}\")"
   ]
  },
  {
   "cell_type": "code",
   "execution_count": null,
   "metadata": {},
   "outputs": [],
   "source": []
  }
 ],
 "metadata": {
  "kernelspec": {
   "display_name": "Python 3",
   "language": "python",
   "name": "python3"
  },
  "language_info": {
   "codemirror_mode": {
    "name": "ipython",
    "version": 3
   },
   "file_extension": ".py",
   "mimetype": "text/x-python",
   "name": "python",
   "nbconvert_exporter": "python",
   "pygments_lexer": "ipython3",
   "version": "3.13.0"
  }
 },
 "nbformat": 4,
 "nbformat_minor": 2
}
